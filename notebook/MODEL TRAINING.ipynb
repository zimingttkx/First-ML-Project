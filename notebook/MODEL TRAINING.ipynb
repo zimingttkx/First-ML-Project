{
 "cells": [
  {
   "metadata": {
    "ExecuteTime": {
     "end_time": "2025-06-11T03:48:34.771858Z",
     "start_time": "2025-06-11T03:48:34.758323Z"
    }
   },
   "cell_type": "code",
   "source": [
    "import pandas as pd\n",
    "import numpy as np\n",
    "import matplotlib.pyplot as plt\n",
    "import seaborn as sns\n",
    "from sklearn.metrics import *\n",
    "from sklearn.neighbors import KNeighborsRegressor\n",
    "from sklearn.tree import DecisionTreeRegressor\n",
    "from sklearn.ensemble import RandomForestRegressor,AdaBoostRegressor\n",
    "from sklearn.linear_model import LinearRegression,Lasso,Ridge\n",
    "from sklearn.svm import SVR\n",
    "from sklearn.model_selection import RandomizedSearchCV\n",
    "from catboost import CatBoostRegressor\n",
    "from xgboost import XGBRegressor\n",
    "import warnings\n",
    "warnings.filterwarnings(\"ignore\")\n"
   ],
   "id": "a11455ea14055736",
   "outputs": [],
   "execution_count": 23
  },
  {
   "metadata": {
    "ExecuteTime": {
     "end_time": "2025-06-11T03:26:21.773145Z",
     "start_time": "2025-06-11T03:26:21.766119Z"
    }
   },
   "cell_type": "code",
   "source": "df = pd.read_csv(\"data/stud.csv\")",
   "id": "447b9697a32ae7c7",
   "outputs": [],
   "execution_count": 11
  },
  {
   "metadata": {
    "ExecuteTime": {
     "end_time": "2025-06-11T03:26:22.152579Z",
     "start_time": "2025-06-11T03:26:22.145243Z"
    }
   },
   "cell_type": "code",
   "source": "df.head()",
   "id": "3ba12d6a2f37d413",
   "outputs": [
    {
     "data": {
      "text/plain": [
       "   gender race_ethnicity parental_level_of_education         lunch  \\\n",
       "0  female        group B           bachelor's degree      standard   \n",
       "1  female        group C                some college      standard   \n",
       "2  female        group B             master's degree      standard   \n",
       "3    male        group A          associate's degree  free/reduced   \n",
       "4    male        group C                some college      standard   \n",
       "\n",
       "  test_preparation_course  math_score  reading_score  writing_score  \n",
       "0                    none          72             72             74  \n",
       "1               completed          69             90             88  \n",
       "2                    none          90             95             93  \n",
       "3                    none          47             57             44  \n",
       "4                    none          76             78             75  "
      ],
      "text/html": [
       "<div>\n",
       "<style scoped>\n",
       "    .dataframe tbody tr th:only-of-type {\n",
       "        vertical-align: middle;\n",
       "    }\n",
       "\n",
       "    .dataframe tbody tr th {\n",
       "        vertical-align: top;\n",
       "    }\n",
       "\n",
       "    .dataframe thead th {\n",
       "        text-align: right;\n",
       "    }\n",
       "</style>\n",
       "<table border=\"1\" class=\"dataframe\">\n",
       "  <thead>\n",
       "    <tr style=\"text-align: right;\">\n",
       "      <th></th>\n",
       "      <th>gender</th>\n",
       "      <th>race_ethnicity</th>\n",
       "      <th>parental_level_of_education</th>\n",
       "      <th>lunch</th>\n",
       "      <th>test_preparation_course</th>\n",
       "      <th>math_score</th>\n",
       "      <th>reading_score</th>\n",
       "      <th>writing_score</th>\n",
       "    </tr>\n",
       "  </thead>\n",
       "  <tbody>\n",
       "    <tr>\n",
       "      <th>0</th>\n",
       "      <td>female</td>\n",
       "      <td>group B</td>\n",
       "      <td>bachelor's degree</td>\n",
       "      <td>standard</td>\n",
       "      <td>none</td>\n",
       "      <td>72</td>\n",
       "      <td>72</td>\n",
       "      <td>74</td>\n",
       "    </tr>\n",
       "    <tr>\n",
       "      <th>1</th>\n",
       "      <td>female</td>\n",
       "      <td>group C</td>\n",
       "      <td>some college</td>\n",
       "      <td>standard</td>\n",
       "      <td>completed</td>\n",
       "      <td>69</td>\n",
       "      <td>90</td>\n",
       "      <td>88</td>\n",
       "    </tr>\n",
       "    <tr>\n",
       "      <th>2</th>\n",
       "      <td>female</td>\n",
       "      <td>group B</td>\n",
       "      <td>master's degree</td>\n",
       "      <td>standard</td>\n",
       "      <td>none</td>\n",
       "      <td>90</td>\n",
       "      <td>95</td>\n",
       "      <td>93</td>\n",
       "    </tr>\n",
       "    <tr>\n",
       "      <th>3</th>\n",
       "      <td>male</td>\n",
       "      <td>group A</td>\n",
       "      <td>associate's degree</td>\n",
       "      <td>free/reduced</td>\n",
       "      <td>none</td>\n",
       "      <td>47</td>\n",
       "      <td>57</td>\n",
       "      <td>44</td>\n",
       "    </tr>\n",
       "    <tr>\n",
       "      <th>4</th>\n",
       "      <td>male</td>\n",
       "      <td>group C</td>\n",
       "      <td>some college</td>\n",
       "      <td>standard</td>\n",
       "      <td>none</td>\n",
       "      <td>76</td>\n",
       "      <td>78</td>\n",
       "      <td>75</td>\n",
       "    </tr>\n",
       "  </tbody>\n",
       "</table>\n",
       "</div>"
      ]
     },
     "execution_count": 12,
     "metadata": {},
     "output_type": "execute_result"
    }
   ],
   "execution_count": 12
  },
  {
   "metadata": {
    "ExecuteTime": {
     "end_time": "2025-06-11T03:26:23.334621Z",
     "start_time": "2025-06-11T03:26:23.331296Z"
    }
   },
   "cell_type": "code",
   "source": [
    "## 将数据分为自变量和应变量  数学成绩是我的预测值 其他的是自变量\n",
    "X = df.drop(columns=[\"math_score\"],axis = 1)\n",
    "y = df[\"math_score\"]"
   ],
   "id": "e1bb6ce77eb6613f",
   "outputs": [],
   "execution_count": 13
  },
  {
   "metadata": {
    "ExecuteTime": {
     "end_time": "2025-06-11T03:26:23.808825Z",
     "start_time": "2025-06-11T03:26:23.803094Z"
    }
   },
   "cell_type": "code",
   "source": [
    "# 将数据分为数值型和分类特征\n",
    "num_features = X.select_dtypes(exclude=\"object\").columns\n",
    "cat_features = X.select_dtypes(include=\"object\").columns\n",
    "\n",
    "# 对数值型和分类特征进行预处理\n",
    "from sklearn.preprocessing import OneHotEncoder,StandardScaler\n",
    "from sklearn.compose import ColumnTransformer\n",
    "\n",
    "# 对float/int 数据进行标准化 对分类数据进行独热编码\n",
    "numeric_transformer = StandardScaler()\n",
    "oh_transformer = OneHotEncoder()\n",
    "\n",
    "# 创建一个pipeline来处理数值和分类特征\n",
    "preprocessor = ColumnTransformer(\n",
    "    [\n",
    "        (\"OneHotEncoder\",oh_transformer,cat_features),\n",
    "        (\"StandardScaler\",numeric_transformer,num_features)\n",
    "    ]\n",
    ")"
   ],
   "id": "182cf0d42d0802ae",
   "outputs": [],
   "execution_count": 14
  },
  {
   "metadata": {
    "ExecuteTime": {
     "end_time": "2025-06-11T03:27:40.090752Z",
     "start_time": "2025-06-11T03:27:40.057700Z"
    }
   },
   "cell_type": "code",
   "source": "X = preprocessor.fit_transform(X)",
   "id": "37ecf2fb7c45577",
   "outputs": [],
   "execution_count": 16
  },
  {
   "metadata": {
    "ExecuteTime": {
     "end_time": "2025-06-11T03:28:05.819706Z",
     "start_time": "2025-06-11T03:28:05.810160Z"
    }
   },
   "cell_type": "code",
   "source": "X.shape",
   "id": "42a35e9217260e76",
   "outputs": [
    {
     "data": {
      "text/plain": [
       "(1000, 19)"
      ]
     },
     "execution_count": 19,
     "metadata": {},
     "output_type": "execute_result"
    }
   ],
   "execution_count": 19
  },
  {
   "metadata": {
    "ExecuteTime": {
     "end_time": "2025-06-11T03:30:14.449963Z",
     "start_time": "2025-06-11T03:30:14.435204Z"
    }
   },
   "cell_type": "code",
   "source": [
    "# 划分训练集和数据集\n",
    "from sklearn.model_selection import train_test_split\n",
    "X_train,X_test,y_train,y_test = train_test_split(X,y,test_size=0.2,random_state=42)"
   ],
   "id": "819ca9eed764bd57",
   "outputs": [],
   "execution_count": 20
  },
  {
   "metadata": {
    "ExecuteTime": {
     "end_time": "2025-06-11T03:30:18.866157Z",
     "start_time": "2025-06-11T03:30:18.860556Z"
    }
   },
   "cell_type": "code",
   "source": "X_train.shape",
   "id": "88ece2425d27ab1f",
   "outputs": [
    {
     "data": {
      "text/plain": [
       "(800, 19)"
      ]
     },
     "execution_count": 21,
     "metadata": {},
     "output_type": "execute_result"
    }
   ],
   "execution_count": 21
  },
  {
   "metadata": {
    "ExecuteTime": {
     "end_time": "2025-06-11T03:47:31.572770Z",
     "start_time": "2025-06-11T03:47:31.553005Z"
    }
   },
   "cell_type": "code",
   "source": [
    "## 定义一个函数来评估模型\n",
    "def evaluate_model(true,predicted):\n",
    "    print(f\"MAE: {mean_absolute_error(true,predicted)}\")\n",
    "    print(f\"MSE: {mean_squared_error(true,predicted)}\")\n",
    "    print(f\"RMSE: {np.sqrt(mean_squared_error(true,predicted))}\")\n",
    "    print(f\"R2: {r2_score(true,predicted)}\")\n"
   ],
   "id": "4426d16fd88a86b4",
   "outputs": [],
   "execution_count": 22
  },
  {
   "metadata": {
    "ExecuteTime": {
     "end_time": "2025-06-11T03:55:12.376710Z",
     "start_time": "2025-06-11T03:55:11.243056Z"
    }
   },
   "cell_type": "code",
   "source": [
    "models = {\n",
    "    \"KNeighborsRegressor\":KNeighborsRegressor(),\n",
    "    \"DecisionTreeRegressor\":DecisionTreeRegressor(),\n",
    "    \"RandomForestRegressor\":RandomForestRegressor(),\n",
    "    \"AdaBoostRegressor\":AdaBoostRegressor(),\n",
    "    \"LinearRegression\":LinearRegression(),\n",
    "    \"Lasso\":Lasso(),\n",
    "    \"Ridge\":Ridge(),\n",
    "    \"SVR\":SVR(),\n",
    "    \"CatBoostRegressor\":CatBoostRegressor(verbose=0),\n",
    "    \"XGBRegressor\":XGBRegressor(eval_metric=\"rmse\",verbosity=0)\n",
    "}\n",
    "\n",
    "model_list = []\n",
    "for i in range(len(list(models))):\n",
    "    model = list(models.values())[i]\n",
    "    model.fit(X_train,y_train)\n",
    "\n",
    "    # 预测\n",
    "    y_train_pred = model.predict(X_train)\n",
    "    y_test_pred = model.predict(X_test)\n",
    "\n",
    "    # 评估模型\n",
    "    print(list(models.keys())[i])\n",
    "    model_list.append(list(models.keys())[i])\n",
    "    evaluate_model(y_train,y_train_pred)\n",
    "    print(\"-----------------------------------\")\n",
    "    evaluate_model(y_test,y_test_pred)\n",
    "\n",
    "    print(\"===================================\")\n",
    "    print(\"\\n\\n\")"
   ],
   "id": "587da1ec75c8d56f",
   "outputs": [
    {
     "name": "stdout",
     "output_type": "stream",
     "text": [
      "KNeighborsRegressor\n",
      "MAE: 4.527\n",
      "MSE: 32.6859\n",
      "RMSE: 5.71715838507208\n",
      "R2: 0.8550176780012468\n",
      "-----------------------------------\n",
      "MAE: 5.627999999999999\n",
      "MSE: 52.6388\n",
      "RMSE: 7.255260160738552\n",
      "R2: 0.7836806685669011\n",
      "===================================\n",
      "\n",
      "\n",
      "\n",
      "DecisionTreeRegressor\n",
      "MAE: 0.01875\n",
      "MSE: 0.078125\n",
      "RMSE: 0.2795084971874737\n",
      "R2: 0.9996534669718089\n",
      "-----------------------------------\n",
      "MAE: 6.01\n",
      "MSE: 60.71\n",
      "RMSE: 7.791662210337407\n",
      "R2: 0.7505120441327797\n",
      "===================================\n",
      "\n",
      "\n",
      "\n",
      "RandomForestRegressor\n",
      "MAE: 1.8165354166666667\n",
      "MSE: 5.214634135416666\n",
      "RMSE: 2.283557342265936\n",
      "R2: 0.9768698501394586\n",
      "-----------------------------------\n",
      "MAE: 4.643462500000001\n",
      "MSE: 36.16784428125001\n",
      "RMSE: 6.013970758263629\n",
      "R2: 0.8513681183025367\n",
      "===================================\n",
      "\n",
      "\n",
      "\n",
      "AdaBoostRegressor\n",
      "MAE: 4.765885519555345\n",
      "MSE: 33.823823791816494\n",
      "RMSE: 5.815825288969442\n",
      "R2: 0.8499702773301568\n",
      "-----------------------------------\n",
      "MAE: 4.7214897580798185\n",
      "MSE: 36.58607667563786\n",
      "RMSE: 6.048642548178712\n",
      "R2: 0.8496493908251314\n",
      "===================================\n",
      "\n",
      "\n",
      "\n",
      "LinearRegression\n",
      "MAE: 4.266711846071957\n",
      "MSE: 28.334870380648585\n",
      "RMSE: 5.323050852720513\n",
      "R2: 0.8743172040139593\n",
      "-----------------------------------\n",
      "MAE: 4.214763142474852\n",
      "MSE: 29.095169866715494\n",
      "RMSE: 5.393993869732843\n",
      "R2: 0.8804332983749564\n",
      "===================================\n",
      "\n",
      "\n",
      "\n",
      "Lasso\n",
      "MAE: 5.206302661246525\n",
      "MSE: 43.47840400585577\n",
      "RMSE: 6.593815587795565\n",
      "R2: 0.8071462015863458\n",
      "-----------------------------------\n",
      "MAE: 5.157881810347763\n",
      "MSE: 42.5064168384116\n",
      "RMSE: 6.519694535667419\n",
      "R2: 0.8253197323627853\n",
      "===================================\n",
      "\n",
      "\n",
      "\n",
      "Ridge\n",
      "MAE: 4.264987823725978\n",
      "MSE: 28.337788233082456\n",
      "RMSE: 5.323324922741656\n",
      "R2: 0.8743042615212908\n",
      "-----------------------------------\n",
      "MAE: 4.2111006880142625\n",
      "MSE: 29.056272192348285\n",
      "RMSE: 5.390387016935638\n",
      "R2: 0.8805931485028738\n",
      "===================================\n",
      "\n",
      "\n",
      "\n",
      "SVR\n",
      "MAE: 4.869189452384867\n",
      "MSE: 43.257024268031365\n",
      "RMSE: 6.57700724251018\n",
      "R2: 0.8081281585902299\n",
      "-----------------------------------\n",
      "MAE: 5.4015392444969965\n",
      "MSE: 66.0420049374565\n",
      "RMSE: 8.126623218622633\n",
      "R2: 0.7286001513223704\n",
      "===================================\n",
      "\n",
      "\n",
      "\n",
      "CatBoostRegressor\n",
      "MAE: 2.405393926779502\n",
      "MSE: 9.257805405523678\n",
      "RMSE: 3.042664195326799\n",
      "R2: 0.9589358676277713\n",
      "-----------------------------------\n",
      "MAE: 4.612531714976557\n",
      "MSE: 36.10365799356841\n",
      "RMSE: 6.008631956907363\n",
      "R2: 0.8516318920747058\n",
      "===================================\n",
      "\n",
      "\n",
      "\n",
      "XGBRegressor\n",
      "MAE: 0.687466561794281\n",
      "MSE: 1.0146163702011108\n",
      "RMSE: 1.0072816737145132\n",
      "R2: 0.9954995512962341\n",
      "-----------------------------------\n",
      "MAE: 5.057730674743652\n",
      "MSE: 41.90370559692383\n",
      "RMSE: 6.47330716071189\n",
      "R2: 0.8277965784072876\n",
      "===================================\n",
      "\n",
      "\n",
      "\n"
     ]
    }
   ],
   "execution_count": 25
  },
  {
   "metadata": {},
   "cell_type": "code",
   "outputs": [],
   "execution_count": null,
   "source": "",
   "id": "6b2251e74657385d"
  }
 ],
 "metadata": {
  "kernelspec": {
   "display_name": "Python 3",
   "language": "python",
   "name": "python3"
  },
  "language_info": {
   "codemirror_mode": {
    "name": "ipython",
    "version": 2
   },
   "file_extension": ".py",
   "mimetype": "text/x-python",
   "name": "python",
   "nbconvert_exporter": "python",
   "pygments_lexer": "ipython2",
   "version": "2.7.6"
  }
 },
 "nbformat": 4,
 "nbformat_minor": 5
}
